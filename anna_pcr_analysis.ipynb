{
 "cells": [
  {
   "cell_type": "markdown",
   "metadata": {},
   "source": [
    "# PCR DATA ANALYSIS: ANNA 🧬🧬🧬\n",
    "\n",
    "### Halo sobat PCR 👋\n",
    "\n",
    "### This is a fully automatic script to analyse the raw qPCR export file from Anna (ABI 7500) and output the summary of the qPCR run into an excel file:\n",
    "* Filters out samples when the Ct value of E and RDRP are both 0, *except for samples from repeated extraction (suffix -a)*\n",
    "* Includes the sample and flag them when the Ct value of RNAse P is higher than 35\n",
    "* Includes extraction controls and PCR controls when there are any Ct values\n",
    "* Averages the Ct value of positive control at the bottom of the summary table\n",
    "\n",
    "### Please make sure that:\n",
    "* **When exporting, only blocks the well with samples (don't select all if the run is less than six batches)**\n",
    "* **The run is exported as it is (you don't have to remove parameters/columns from the export tool)**\n",
    "* **All genes (E, RDRP, RNAse P) are included when exporting**\n",
    "* **Positive and PCR controls (NTC) are properly named (e.g. POS01, POS02, NTC01, NTC02, etc.)**\n",
    "* **No duplicate Sample ID (else it will cause error in the pivoting step)**\n",
    "* <span style=\"color:red\">**THERE ARE NO BATCHES WHERE THE SAMPLES ARE NOT 15. Please use the alternative version of the script in this case.**</span> (Technically, this script can still be used with more/less than 15 samples, as long as the extraction control is at number 15)\n",
    "\n",
    "\n",
    "### Please let Moreno know if there is any bug, cheers! 🍻"
   ]
  },
  {
   "cell_type": "markdown",
   "metadata": {},
   "source": [
    "## DATA CLEANING\n",
    "\n",
    "\n",
    "\n",
    "### 1. Import data\n",
    "\n",
    "\n",
    "Input file name at:\n",
    "file_directory = '<span style=\"color:red\">**file name**</span>.xls'\n",
    "> file_directory = '20210207 Covid Batch 7234 235 236 237 238 239.xls'\n",
    "    \n",
    "The full file path needs to be specified if the file is not in the same folder as this Jupyter Notebook file\n",
    "> file_directory = '/Users/morenozan/Downloads/20210207 Covid Batch 7234 235 236 237 238 239.xls'\n",
    "\n",
    "How to copy pathname:\n",
    ">For Windows, hold shift -> right click -> copy as path -- **backslashes needs to be changed to regular slashes**\n",
    "\n",
    ">For macOS, hold option -> right click -> copy file as pathname, or **CMD+Option+C**"
   ]
  },
  {
   "cell_type": "code",
   "execution_count": null,
   "metadata": {},
   "outputs": [],
   "source": [
    "# import data\n",
    "\n",
    "import pandas as pd\n",
    "import numpy as np\n",
    "import os\n",
    "\n",
    "# copy paste the file name here\n",
    "\n",
    "file_directory = 'test_anna_pcr_script.xls'\n",
    "\n",
    "\n",
    "# import the raw export file from Elsa into pandas DataFrame\n",
    "\n",
    "df = pd.read_excel(file_directory,header=7,sheet_name='Results')\n",
    "\n",
    "\n",
    "# replace blank and 'Undetermined' to 0\n",
    "\n",
    "df = df.fillna(0.00)\n",
    "df.replace(['Undetermined'],0.00,inplace=True)\n",
    "df"
   ]
  },
  {
   "cell_type": "markdown",
   "metadata": {},
   "source": [
    "### 2. Exclude blank rows, positive control, extraction control, and NTC"
   ]
  },
  {
   "cell_type": "code",
   "execution_count": null,
   "metadata": {},
   "outputs": [],
   "source": [
    "filtered_df = df[(df['Sample Name'] != None) & (df['Sample Name'].str.contains('NTC')==False) & (df['Sample Name'].str.contains('POS')==False) & (df['Sample Name'].str.endswith('15')==False)]\n",
    "filtered_df"
   ]
  },
  {
   "cell_type": "markdown",
   "metadata": {},
   "source": [
    "### 3. Pivot E, RDRP, and RNAse P into their own columns, and then remove rows if E and RDRP are both equal to 0\n",
    "\n",
    "Except for data with RNAse P higher than 35 and data from repeated extraction (with -A suffix), they will be kept"
   ]
  },
  {
   "cell_type": "code",
   "execution_count": null,
   "metadata": {},
   "outputs": [],
   "source": [
    "# pivot the DataFrame (E, RDRP, and RNAse P became the columns)\n",
    "\n",
    "df1 = filtered_df[['Sample Name','Target Name','Cт']]\n",
    "df1piv = df1.pivot(index = 'Sample Name', columns = 'Target Name', values = 'Cт')\n",
    "\n",
    "\n",
    "# exclude rows when the Ct value of both E and RDRP equals to 0 \n",
    "# retains rows when RNAse P is higher than 35 and retains rows from repeated extraction\n",
    "\n",
    "df2 = df1piv[((df1piv['E'] != 0)|(df1piv['RdRp'] != 0))|(df1piv['RNAse P'] > 35)|(df1piv['RNAse P'] == 0)|df1piv.index.str.endswith('A')][['E','RdRp','RNAse P']]\n",
    "df2.head(10)"
   ]
  },
  {
   "cell_type": "markdown",
   "metadata": {},
   "source": [
    "Optional: you can run the script below if you want to crosscheck with the full pivoted table (remove the # and run)"
   ]
  },
  {
   "cell_type": "code",
   "execution_count": null,
   "metadata": {},
   "outputs": [],
   "source": [
    "#df1piv.to_excel('pivot_table_check.xlsx',index=True,header=True)"
   ]
  },
  {
   "cell_type": "markdown",
   "metadata": {},
   "source": [
    "## DATA ANALYSIS\n",
    "\n",
    "### 1. Add POS/NEG description and RNAse P status"
   ]
  },
  {
   "cell_type": "code",
   "execution_count": null,
   "metadata": {},
   "outputs": [],
   "source": [
    "# describe PCR result into a new column 'POS/NEG'\n",
    "\n",
    "conditionsPN = [\n",
    "    #invalid\n",
    "    \n",
    "    ((df2['RNAse P'] == 0)), # no Ct value for RNAse P, invalid\n",
    "    \n",
    "    \n",
    "    #negative\n",
    "    \n",
    "    ((df2['E'] == 0) & (df2['RdRp'] == 0)), # E and RDRP = 0, negative  \n",
    "    \n",
    "    ((df2['E'] > 38) & (df2['RdRp'] > 38)), # E and RDRP both more than 38, negative\n",
    "    \n",
    "    ((df2['E'] == 0) & (df2['RdRp'] > 38)), # E = 0 and RDRP more than 38, negative\n",
    "    \n",
    "    ((df2['E'] > 38) & (df2['RdRp'] == 0)), # E more than 38 and RDRP = 0, negative\n",
    "    \n",
    "    \n",
    "    #inconclusive\n",
    "    \n",
    "    ((df2['E'] < 38) & (df2['RdRp'] > 38)), # E less than 38, RDRP more than 38, inconclusive\n",
    "    \n",
    "    ((df2['E'] > 38) & (df2['RdRp'] < 38)),  # E more than 38, RDRP less than 38, inconclusive \n",
    "    \n",
    "    ((df2['E'] == 0) & (df2['RdRp'] < 38)), # E = 0, RDRP less than 38, inconclusive\n",
    "    \n",
    "    ((df2['E'] < 38) & (df2['RdRp'] == 0)),  # E less than 38, RDRP = 0, inconclusive \n",
    "    \n",
    "    \n",
    "    #positive\n",
    "    \n",
    "    ((df2['E'] < 38) & (df2['RdRp'] < 38)) # E dan RDRP both less than 38, positive\n",
    "]\n",
    "\n",
    "valuesPN = ['Invalid','Negative','Negative','Negative','Negative','Inconclusive','Inconclusive','Inconclusive','Inconclusive','Positive']\n",
    "df2['POS/NEG'] = np.select(conditionsPN,valuesPN)\n",
    "\n",
    "\n",
    "# describe HRP status into a new column 'Aman?'\n",
    "\n",
    "conditionsHRP = [\n",
    "    ((df2['RNAse P'] == 0)), # no Ct value for HRP, 'Gk naik'\n",
    "    \n",
    "    ((df2['RNAse P'] > 35)), # High HRP Ct: 'Di atas 35'\n",
    "    \n",
    "    ((df2['RNAse P'] <=35))  # Normal HRP, blank\n",
    "]\n",
    "\n",
    "valuesHRP = ['Gk naik','Di atas 35','']\n",
    "df2['Aman?'] = np.select(conditionsHRP,valuesHRP)\n",
    "df2"
   ]
  },
  {
   "cell_type": "markdown",
   "metadata": {},
   "source": [
    "### 2. Describe extraction and PCR (NTC) control status into a new DataFrame\n",
    "# <span style=\"color:red\">!!! Extraction control at .15; please use the alternative script if this is not the case !!!</span>"
   ]
  },
  {
   "cell_type": "code",
   "execution_count": null,
   "metadata": {},
   "outputs": [],
   "source": [
    "# new DataFrame for EC and NTC\n",
    "\n",
    "# NTC only table\n",
    "dfcekNTC = df[df['Sample Name'].str.contains('NTC')][['Well','Target Name','Cт']]\n",
    "# pivoted NTC table\n",
    "dfcekNTCpiv = dfcekNTC.pivot(index = 'Well',columns = 'Target Name',values = 'Cт')\n",
    "\n",
    "# add Sample Name back to the table\n",
    "\n",
    "# count the number of NTC\n",
    "totalNTC = dfcekNTCpiv.count().at['E']\n",
    "# make a list based on the number of NTC\n",
    "nameNTC = []\n",
    "for i in range(totalNTC):\n",
    "    nameNTC.append('NTC0'+str(i+1))\n",
    "    i+1\n",
    "#insert the sample name to the DataFrame\n",
    "dfcekNTCpiv.insert(0,'Sample Name',nameNTC)\n",
    "#reassign Sample Name as the index\n",
    "dfcekNTCpiv = dfcekNTCpiv[['Sample Name','E','RdRp','RNAse P']].set_index('Sample Name')\n",
    "\n",
    "dfcekEC = df[df['Sample Name'].str.endswith('15')][['Sample Name','Target Name','Cт']]\n",
    "dfcekECpiv = dfcekEC.pivot(index = 'Sample Name',columns = 'Target Name',values = 'Cт')\n",
    "\n",
    "\n",
    "# make column: 'Aman?' --> 'Naik' if HRP, E, and RDRP not equal to 0\n",
    "#                      --> 'Aman' if all equal to 0\n",
    "\n",
    "dfcekNTCpiv['Aman?'] = np.where((dfcekNTCpiv['RNAse P'] == 0) & (dfcekNTCpiv['E'] == 0) & (dfcekNTCpiv['RdRp'] == 0),'Aman','Naik')\n",
    "dfcekECpiv['Aman?'] = np.where((dfcekECpiv['RNAse P'] == 0) & (dfcekECpiv['E'] == 0) & (dfcekECpiv['RdRp'] == 0),'Aman','Naik')\n",
    "\n",
    "\n",
    "# new combined DataFrame\n",
    "\n",
    "dfcek = pd.concat([dfcekECpiv,dfcekNTCpiv])[['E','RdRp','RNAse P','Aman?']]\n",
    "\n",
    "\n",
    "# filter only for those where the status is Naik\n",
    "\n",
    "dfNaik = dfcek[dfcek['Aman?']=='Naik']\n",
    "\n",
    "\n",
    "dfcek"
   ]
  },
  {
   "cell_type": "markdown",
   "metadata": {},
   "source": [
    "### 3. Mean Ct for Positive Control"
   ]
  },
  {
   "cell_type": "code",
   "execution_count": null,
   "metadata": {},
   "outputs": [],
   "source": [
    "# make a new pivot DataFrame (column Sample Id, E, RDRP, RNAse P) for positive control rows\n",
    "\n",
    "dfPos = df[df['Sample Name'].str.contains('POS')][['Well','Target Name','Cт']]\n",
    "dfPosPivot = dfPos.pivot(index = 'Well', columns = 'Target Name', values = 'Cт')\n",
    "\n",
    "# make a new DataFrame for the mean of the Ct value of each gene in the positive control\n",
    "dfPosMean = pd.DataFrame({'E': dfPosPivot[['E']].mean().at['E'],\n",
    "                          'RdRp': dfPosPivot[['RdRp']].mean().at['RdRp'],\n",
    "                          'RNAse P': dfPosPivot[['RNAse P']].mean().at['RNAse P']\n",
    "    \n",
    "            },index=['Positive Control'])\n",
    "dfPosMean"
   ]
  },
  {
   "cell_type": "markdown",
   "metadata": {},
   "source": [
    "## SUMMARY"
   ]
  },
  {
   "cell_type": "markdown",
   "metadata": {},
   "source": [
    "### New combined DataFrame from the samples, extraction and PCR controls, and positive control\n",
    "Extraction control dan NTC shows up if any of the Ct value is not 0"
   ]
  },
  {
   "cell_type": "code",
   "execution_count": null,
   "metadata": {},
   "outputs": [],
   "source": [
    "dfOut = pd.concat([df2,dfNaik]).sort_index()\n",
    "dfOutput = pd.concat([dfOut,dfPosMean]).fillna('')\n",
    "dfOutput"
   ]
  },
  {
   "cell_type": "markdown",
   "metadata": {},
   "source": [
    "### Export to an Excel file"
   ]
  },
  {
   "cell_type": "code",
   "execution_count": null,
   "metadata": {},
   "outputs": [],
   "source": [
    "# filename for the output file\n",
    "\n",
    "outputFilename = 'ANALYSED_' + os.path.basename(os.path.splitext(file_directory)[0])\n",
    "\n",
    "# export dfOutput to a new excel file\n",
    "\n",
    "dfOutput.to_excel(outputFilename + '.xls',index=True,header=True)"
   ]
  }
 ],
 "metadata": {
  "kernelspec": {
   "display_name": "Python 3",
   "language": "python",
   "name": "python3"
  },
  "language_info": {
   "codemirror_mode": {
    "name": "ipython",
    "version": 3
   },
   "file_extension": ".py",
   "mimetype": "text/x-python",
   "name": "python",
   "nbconvert_exporter": "python",
   "pygments_lexer": "ipython3",
   "version": "3.8.5"
  }
 },
 "nbformat": 4,
 "nbformat_minor": 4
}
